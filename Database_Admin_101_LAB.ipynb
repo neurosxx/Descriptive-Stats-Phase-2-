{
  "cells": [
    {
      "cell_type": "markdown",
      "metadata": {
        "id": "view-in-github",
        "colab_type": "text"
      },
      "source": [
        "<a href=\"https://colab.research.google.com/github/neurosxx/Descriptive-Stats-Phase-2-/blob/main/Database_Admin_101_LAB.ipynb\" target=\"_parent\"><img src=\"https://colab.research.google.com/assets/colab-badge.svg\" alt=\"Open In Colab\"/></a>"
      ]
    },
    {
      "cell_type": "markdown",
      "metadata": {
        "id": "vHtOo6Fdq3u5"
      },
      "source": [
        "# Database Admin 101 - Lab\n",
        "\n",
        "## Introduction\n",
        "\n",
        "In this lab, you'll go through the process of designing and creating a database. From there, you'll begin to populate this table with mock data provided to you.\n",
        "\n",
        "## Objectives\n",
        "\n",
        "You will be able to:\n",
        "\n",
        "* Use knowledge of the structure of databases to create a database and populate it"
      ]
    },
    {
      "cell_type": "markdown",
      "metadata": {
        "id": "u41iN3otq3u7"
      },
      "source": [
        "## The Scenario\n",
        "\n",
        "You are looking to design a database for a school that will house various information from student grades to contact information, class roster lists and attendance. First, think of how you would design such a database. What tables would you include? What columns would each table have? What would be the primary means to join said tables?"
      ]
    },
    {
      "cell_type": "markdown",
      "metadata": {
        "id": "04tctRwMq3u7"
      },
      "source": [
        "## Creating the Database\n",
        "\n",
        "Now that you've put a little thought into how you might design your database, it's time to go ahead and create it! Start by import the necessary packages. Then, create a database called **school.sqlite**."
      ]
    },
    {
      "cell_type": "code",
      "execution_count": 1,
      "metadata": {
        "id": "tpygOOz_q3u8"
      },
      "outputs": [],
      "source": [
        "# Import necessary packages\n",
        "import sqlite3"
      ]
    },
    {
      "cell_type": "code",
      "execution_count": 2,
      "metadata": {
        "id": "riHOPyEcq3u9"
      },
      "outputs": [],
      "source": [
        "# Create the database school.sqlite\n",
        "conn = sqlite3.connect('school.sqlite')\n",
        "cur = conn.cursor()"
      ]
    },
    {
      "cell_type": "code",
      "source": [
        "!ls"
      ],
      "metadata": {
        "colab": {
          "base_uri": "https://localhost:8080/"
        },
        "id": "5nyg5n9wtANd",
        "outputId": "222eabc0-f37c-48c7-f4e8-0a7921dbc177"
      },
      "execution_count": 3,
      "outputs": [
        {
          "output_type": "stream",
          "name": "stdout",
          "text": [
            "sample_data  school.sqlite\n"
          ]
        }
      ]
    },
    {
      "cell_type": "markdown",
      "metadata": {
        "id": "UO43A56Uq3u9"
      },
      "source": [
        "## Create a Table for Contact Information\n",
        "\n",
        "Create a table called contactInfo to house contact information for both students and staff. Be sure to include columns for first name, last name, role (student/staff), telephone number, street, city, state, and zipcode. Be sure to also create a primary key for the table."
      ]
    },
    {
      "cell_type": "code",
      "execution_count": 4,
      "metadata": {
        "colab": {
          "base_uri": "https://localhost:8080/"
        },
        "id": "pOpeLXEIq3u9",
        "outputId": "ab26fb6b-92e5-492d-8ebd-6a272f064583"
      },
      "outputs": [
        {
          "output_type": "execute_result",
          "data": {
            "text/plain": [
              "<sqlite3.Cursor at 0x797d28678fc0>"
            ]
          },
          "metadata": {},
          "execution_count": 4
        }
      ],
      "source": [
        "cur.execute(\"\"\"\n",
        "CREATE TABLE contactInfo (\n",
        "  id INTEGER PRIMARY KEY,\n",
        "  firstName TEXT,\n",
        "  lastName TEXT,\n",
        "  role TEXT,\n",
        "  \"telephone \" TEXT,\n",
        "  city TEXT,\n",
        "  street TEXT,\n",
        "  state TEXT,\n",
        "  \"zipcode \" TEXT\n",
        ")\n",
        "\"\"\")\n",
        "# TelephoneNumber is text due to usualy having hyphen, etc\n",
        "# Zipcode is also technically not numbers, just hold things. Keep dtypes consistent."
      ]
    },
    {
      "cell_type": "markdown",
      "metadata": {
        "id": "fhjb5Wieq3u9"
      },
      "source": [
        "## Populate the Table\n",
        "\n",
        "Below, code is provided for you in order to load a list of dictionaries. Briefly examine the list. Each dictionary in the list will serve as an entry for your contact info table. Once you've briefly investigated the structure of this data, write a for loop to iterate through the list and create an entry in your table for each person's contact info."
      ]
    },
    {
      "cell_type": "code",
      "source": [
        "!wget https://github.com/learn-co-curriculum/dsc-database-admin-101-lab/raw/refs/heads/master/contact_list.pickle"
      ],
      "metadata": {
        "colab": {
          "base_uri": "https://localhost:8080/"
        },
        "id": "rK6vB1aHpsDK",
        "outputId": "afed1101-e683-41fd-c90d-532c6ff40102"
      },
      "execution_count": 5,
      "outputs": [
        {
          "output_type": "stream",
          "name": "stdout",
          "text": [
            "--2024-10-03 02:59:38--  https://github.com/learn-co-curriculum/dsc-database-admin-101-lab/raw/refs/heads/master/contact_list.pickle\n",
            "Resolving github.com (github.com)... 140.82.113.3\n",
            "Connecting to github.com (github.com)|140.82.113.3|:443... connected.\n",
            "HTTP request sent, awaiting response... 302 Found\n",
            "Location: https://raw.githubusercontent.com/learn-co-curriculum/dsc-database-admin-101-lab/refs/heads/master/contact_list.pickle [following]\n",
            "--2024-10-03 02:59:38--  https://raw.githubusercontent.com/learn-co-curriculum/dsc-database-admin-101-lab/refs/heads/master/contact_list.pickle\n",
            "Resolving raw.githubusercontent.com (raw.githubusercontent.com)... 185.199.109.133, 185.199.108.133, 185.199.111.133, ...\n",
            "Connecting to raw.githubusercontent.com (raw.githubusercontent.com)|185.199.109.133|:443... connected.\n",
            "HTTP request sent, awaiting response... 200 OK\n",
            "Length: 1213 (1.2K) [application/octet-stream]\n",
            "Saving to: ‘contact_list.pickle’\n",
            "\n",
            "contact_list.pickle 100%[===================>]   1.18K  --.-KB/s    in 0s      \n",
            "\n",
            "2024-10-03 02:59:38 (51.4 MB/s) - ‘contact_list.pickle’ saved [1213/1213]\n",
            "\n"
          ]
        }
      ]
    },
    {
      "cell_type": "code",
      "execution_count": 6,
      "metadata": {
        "id": "P77ZaWZgq3u9"
      },
      "outputs": [],
      "source": [
        "# Load the list of dictionaries; just run this cell\n",
        "import pickle\n",
        "\n",
        "with open('contact_list.pickle', 'rb') as f:\n",
        "    contacts = pickle.load(f)"
      ]
    },
    {
      "cell_type": "code",
      "source": [
        "contacts"
      ],
      "metadata": {
        "colab": {
          "base_uri": "https://localhost:8080/"
        },
        "id": "yemsqV7-prfa",
        "outputId": "2451fc95-b71e-4626-d538-09cfa0bf61ad"
      },
      "execution_count": 7,
      "outputs": [
        {
          "output_type": "execute_result",
          "data": {
            "text/plain": [
              "[{'firstName': 'Christine',\n",
              "  'lastName': 'Holden',\n",
              "  'role': 'staff',\n",
              "  'telephone ': 2035687697,\n",
              "  'street': '1672 Whitman Court',\n",
              "  'city': 'Stamford',\n",
              "  'state': 'CT',\n",
              "  'zipcode ': '06995'},\n",
              " {'firstName': 'Christopher',\n",
              "  'lastName': 'Warren',\n",
              "  'role': 'student',\n",
              "  'telephone ': 2175150957,\n",
              "  'street': '1935 University Hill Road',\n",
              "  'city': 'Champaign',\n",
              "  'state': 'IL',\n",
              "  'zipcode ': '61938'},\n",
              " {'firstName': 'Linda',\n",
              "  'lastName': 'Jacobson',\n",
              "  'role': 'staff',\n",
              "  'telephone ': 4049446441,\n",
              "  'street': '479 Musgrave Street',\n",
              "  'city': 'Atlanta',\n",
              "  'state': 'GA',\n",
              "  'zipcode ': '30303'},\n",
              " {'firstName': 'Andrew',\n",
              "  'lastName': 'Stepp',\n",
              "  'role': 'student',\n",
              "  'telephone ': 7866419252,\n",
              "  'street': '2981 Lamberts Branch Road',\n",
              "  'city': 'Hialeah',\n",
              "  'state': 'Fl',\n",
              "  'zipcode ': '33012'},\n",
              " {'firstName': 'Jane',\n",
              "  'lastName': 'Evans',\n",
              "  'role': 'student',\n",
              "  'telephone ': 3259909290,\n",
              "  'street': '1461 Briarhill Lane',\n",
              "  'city': 'Abilene',\n",
              "  'state': 'TX',\n",
              "  'zipcode ': '79602'},\n",
              " {'firstName': 'Jane',\n",
              "  'lastName': 'Evans',\n",
              "  'role': 'student',\n",
              "  'telephone ': 3259909290,\n",
              "  'street': '1461 Briarhill Lane',\n",
              "  'city': 'Abilene',\n",
              "  'state': 'TX',\n",
              "  'zipcode ': '79602'},\n",
              " {'firstName': 'Mary',\n",
              "  'lastName': 'Raines',\n",
              "  'role': 'student',\n",
              "  'telephone ': 9075772295,\n",
              "  'street': '3975 Jerry Toth Drive',\n",
              "  'city': 'Ninilchik',\n",
              "  'state': 'AK',\n",
              "  'zipcode ': '99639'},\n",
              " {'firstName': 'Ed',\n",
              "  'lastName': 'Lyman',\n",
              "  'role': 'student',\n",
              "  'telephone ': 5179695576,\n",
              "  'street': '3478 Be Sreet',\n",
              "  'city': 'Lansing',\n",
              "  'state': 'MI',\n",
              "  'zipcode ': '48933'}]"
            ]
          },
          "metadata": {},
          "execution_count": 7
        }
      ]
    },
    {
      "cell_type": "code",
      "execution_count": 8,
      "metadata": {
        "colab": {
          "base_uri": "https://localhost:8080/"
        },
        "id": "pShfINszq3u-",
        "outputId": "bb110402-f374-4aba-a50c-80bf1312918d"
      },
      "outputs": [
        {
          "output_type": "stream",
          "name": "stdout",
          "text": [
            "{'firstName': 'Christine', 'lastName': 'Holden', 'role': 'staff', 'telephone ': 2035687697, 'street': '1672 Whitman Court', 'city': 'Stamford', 'state': 'CT', 'zipcode ': '06995'}\n",
            "{'firstName': 'Christopher', 'lastName': 'Warren', 'role': 'student', 'telephone ': 2175150957, 'street': '1935 University Hill Road', 'city': 'Champaign', 'state': 'IL', 'zipcode ': '61938'}\n",
            "{'firstName': 'Linda', 'lastName': 'Jacobson', 'role': 'staff', 'telephone ': 4049446441, 'street': '479 Musgrave Street', 'city': 'Atlanta', 'state': 'GA', 'zipcode ': '30303'}\n",
            "{'firstName': 'Andrew', 'lastName': 'Stepp', 'role': 'student', 'telephone ': 7866419252, 'street': '2981 Lamberts Branch Road', 'city': 'Hialeah', 'state': 'Fl', 'zipcode ': '33012'}\n",
            "{'firstName': 'Jane', 'lastName': 'Evans', 'role': 'student', 'telephone ': 3259909290, 'street': '1461 Briarhill Lane', 'city': 'Abilene', 'state': 'TX', 'zipcode ': '79602'}\n",
            "{'firstName': 'Jane', 'lastName': 'Evans', 'role': 'student', 'telephone ': 3259909290, 'street': '1461 Briarhill Lane', 'city': 'Abilene', 'state': 'TX', 'zipcode ': '79602'}\n",
            "{'firstName': 'Mary', 'lastName': 'Raines', 'role': 'student', 'telephone ': 9075772295, 'street': '3975 Jerry Toth Drive', 'city': 'Ninilchik', 'state': 'AK', 'zipcode ': '99639'}\n",
            "{'firstName': 'Ed', 'lastName': 'Lyman', 'role': 'student', 'telephone ': 5179695576, 'street': '3478 Be Sreet', 'city': 'Lansing', 'state': 'MI', 'zipcode ': '48933'}\n"
          ]
        }
      ],
      "source": [
        "# Iterate over the contact list and populate the contactInfo table here\n",
        "for x in contacts:\n",
        "  print(x)\n",
        "  cur.execute(f\"\"\"\n",
        "  INSERT INTO contactInfo {tuple(x.keys())}\n",
        "    VALUES {tuple(x.values())}\n",
        "\n",
        "  \"\"\")"
      ]
    },
    {
      "cell_type": "code",
      "source": [
        "f\"\"\"\n",
        "  INSERT INTO contactInfo {tuple(x.keys())}\n",
        "    VALUES {tuple(x.values())}\n",
        "\n",
        "  \"\"\""
      ],
      "metadata": {
        "colab": {
          "base_uri": "https://localhost:8080/",
          "height": 36
        },
        "id": "crMTKYwvvC4M",
        "outputId": "ec612d51-5d58-48e2-b0e0-320aa2be67fa"
      },
      "execution_count": 9,
      "outputs": [
        {
          "output_type": "execute_result",
          "data": {
            "text/plain": [
              "\"\\n  INSERT INTO contactInfo ('firstName', 'lastName', 'role', 'telephone ', 'street', 'city', 'state', 'zipcode ')\\n    VALUES ('Ed', 'Lyman', 'student', 5179695576, '3478 Be Sreet', 'Lansing', 'MI', '48933')\\n  \\n  \""
            ],
            "application/vnd.google.colaboratory.intrinsic+json": {
              "type": "string"
            }
          },
          "metadata": {},
          "execution_count": 9
        }
      ]
    },
    {
      "cell_type": "code",
      "source": [
        "tuple(contacts[0].keys())"
      ],
      "metadata": {
        "colab": {
          "base_uri": "https://localhost:8080/"
        },
        "id": "K51icKRUtiZK",
        "outputId": "07a4236f-22f7-49b3-ddd5-455a765a4517"
      },
      "execution_count": 10,
      "outputs": [
        {
          "output_type": "execute_result",
          "data": {
            "text/plain": [
              "('firstName',\n",
              " 'lastName',\n",
              " 'role',\n",
              " 'telephone ',\n",
              " 'street',\n",
              " 'city',\n",
              " 'state',\n",
              " 'zipcode ')"
            ]
          },
          "metadata": {},
          "execution_count": 10
        }
      ]
    },
    {
      "cell_type": "code",
      "source": [
        "contacts[0].values()"
      ],
      "metadata": {
        "colab": {
          "base_uri": "https://localhost:8080/"
        },
        "id": "p2upQ8oXrwxp",
        "outputId": "62b1e005-2d62-4086-d61f-e30a22c5c2c3"
      },
      "execution_count": 11,
      "outputs": [
        {
          "output_type": "execute_result",
          "data": {
            "text/plain": [
              "dict_values(['Christine', 'Holden', 'staff', 2035687697, '1672 Whitman Court', 'Stamford', 'CT', '06995'])"
            ]
          },
          "metadata": {},
          "execution_count": 11
        }
      ]
    },
    {
      "cell_type": "code",
      "source": [
        "type(contacts[0])"
      ],
      "metadata": {
        "colab": {
          "base_uri": "https://localhost:8080/"
        },
        "id": "d_LPdYw7q1yX",
        "outputId": "84ab98c5-0539-4e9e-852c-4b664ec6664d"
      },
      "execution_count": 12,
      "outputs": [
        {
          "output_type": "execute_result",
          "data": {
            "text/plain": [
              "dict"
            ]
          },
          "metadata": {},
          "execution_count": 12
        }
      ]
    },
    {
      "cell_type": "markdown",
      "metadata": {
        "id": "NGH9YFwrq3u-"
      },
      "source": [
        "**Query the Table to Ensure it is populated**"
      ]
    },
    {
      "cell_type": "code",
      "execution_count": 13,
      "metadata": {
        "colab": {
          "base_uri": "https://localhost:8080/"
        },
        "id": "tIS_OO1Wq3u-",
        "outputId": "e6a064bd-7f3c-4e87-8a8b-506d3c343f24"
      },
      "outputs": [
        {
          "output_type": "execute_result",
          "data": {
            "text/plain": [
              "[(1,\n",
              "  'Christine',\n",
              "  'Holden',\n",
              "  'staff',\n",
              "  '2035687697',\n",
              "  'Stamford',\n",
              "  '1672 Whitman Court',\n",
              "  'CT',\n",
              "  '06995'),\n",
              " (2,\n",
              "  'Christopher',\n",
              "  'Warren',\n",
              "  'student',\n",
              "  '2175150957',\n",
              "  'Champaign',\n",
              "  '1935 University Hill Road',\n",
              "  'IL',\n",
              "  '61938'),\n",
              " (3,\n",
              "  'Linda',\n",
              "  'Jacobson',\n",
              "  'staff',\n",
              "  '4049446441',\n",
              "  'Atlanta',\n",
              "  '479 Musgrave Street',\n",
              "  'GA',\n",
              "  '30303'),\n",
              " (4,\n",
              "  'Andrew',\n",
              "  'Stepp',\n",
              "  'student',\n",
              "  '7866419252',\n",
              "  'Hialeah',\n",
              "  '2981 Lamberts Branch Road',\n",
              "  'Fl',\n",
              "  '33012'),\n",
              " (5,\n",
              "  'Jane',\n",
              "  'Evans',\n",
              "  'student',\n",
              "  '3259909290',\n",
              "  'Abilene',\n",
              "  '1461 Briarhill Lane',\n",
              "  'TX',\n",
              "  '79602'),\n",
              " (6,\n",
              "  'Jane',\n",
              "  'Evans',\n",
              "  'student',\n",
              "  '3259909290',\n",
              "  'Abilene',\n",
              "  '1461 Briarhill Lane',\n",
              "  'TX',\n",
              "  '79602'),\n",
              " (7,\n",
              "  'Mary',\n",
              "  'Raines',\n",
              "  'student',\n",
              "  '9075772295',\n",
              "  'Ninilchik',\n",
              "  '3975 Jerry Toth Drive',\n",
              "  'AK',\n",
              "  '99639'),\n",
              " (8,\n",
              "  'Ed',\n",
              "  'Lyman',\n",
              "  'student',\n",
              "  '5179695576',\n",
              "  'Lansing',\n",
              "  '3478 Be Sreet',\n",
              "  'MI',\n",
              "  '48933')]"
            ]
          },
          "metadata": {},
          "execution_count": 13
        }
      ],
      "source": [
        "# Your code here\n",
        "#Preview the table via the current cursor/connection\n",
        "cur.execute(\"\"\"SELECT * FROM contactInfo;\"\"\").fetchall()"
      ]
    },
    {
      "cell_type": "markdown",
      "metadata": {
        "id": "KqQIeCy_q3u-"
      },
      "source": [
        "## Commit Your Changes to the Database\n",
        "\n",
        "Persist your changes by committing them to the database."
      ]
    },
    {
      "cell_type": "code",
      "execution_count": 24,
      "metadata": {
        "colab": {
          "base_uri": "https://localhost:8080/"
        },
        "id": "bE1Soxn8q3u-",
        "outputId": "acb7014e-1822-4646-a7e7-7bfb8e5b8dc6"
      },
      "outputs": [
        {
          "output_type": "execute_result",
          "data": {
            "text/plain": [
              "[(1,\n",
              "  'Christine',\n",
              "  'Holden',\n",
              "  'staff',\n",
              "  '2035687697',\n",
              "  'Stamford',\n",
              "  '1672 Whitman Court',\n",
              "  'CT',\n",
              "  '06995'),\n",
              " (2,\n",
              "  'Christopher',\n",
              "  'Warren',\n",
              "  'student',\n",
              "  '2175150957',\n",
              "  'Champaign',\n",
              "  '1935 University Hill Road',\n",
              "  'IL',\n",
              "  '61938'),\n",
              " (3,\n",
              "  'Linda',\n",
              "  'Jacobson',\n",
              "  'staff',\n",
              "  '4049446441',\n",
              "  'Atlanta',\n",
              "  '479 Musgrave Street',\n",
              "  'GA',\n",
              "  '30303'),\n",
              " (4,\n",
              "  'Andrew',\n",
              "  'Stepp',\n",
              "  'student',\n",
              "  '7866419252',\n",
              "  'Hialeah',\n",
              "  '2981 Lamberts Branch Road',\n",
              "  'Fl',\n",
              "  '33012'),\n",
              " (5,\n",
              "  'Jane',\n",
              "  'Evans',\n",
              "  'student',\n",
              "  '3259909290',\n",
              "  'Abilene',\n",
              "  '1461 Briarhill Lane',\n",
              "  'TX',\n",
              "  '79602'),\n",
              " (6,\n",
              "  'Jane',\n",
              "  'Evans',\n",
              "  'student',\n",
              "  '3259909290',\n",
              "  'Abilene',\n",
              "  '1461 Briarhill Lane',\n",
              "  'TX',\n",
              "  '79602'),\n",
              " (7,\n",
              "  'Mary',\n",
              "  'Raines',\n",
              "  'student',\n",
              "  '9075772295',\n",
              "  'Ninilchik',\n",
              "  '3975 Jerry Toth Drive',\n",
              "  'AK',\n",
              "  '99639'),\n",
              " (8,\n",
              "  'Ed',\n",
              "  'Lyman',\n",
              "  'student',\n",
              "  '5179695576',\n",
              "  'Lansing',\n",
              "  '3478 Be Sreet',\n",
              "  'MI',\n",
              "  '48933')]"
            ]
          },
          "metadata": {},
          "execution_count": 24
        }
      ],
      "source": [
        "cur.execute(\"\"\"\n",
        "SELECT *\n",
        "FROM contactInfo;\n",
        "\n",
        "\n",
        "\n",
        "\"\"\").fetchall()"
      ]
    },
    {
      "cell_type": "code",
      "source": [
        "conn2 = sqlite3.connect('school.sqlite')\n",
        "cur2 = conn2.cursor()\n",
        "cur2.execute(\"\"\"SELECT * FROM contactInfo;\"\"\").fetchall()"
      ],
      "metadata": {
        "colab": {
          "base_uri": "https://localhost:8080/"
        },
        "id": "DrWa-WZ7YHUt",
        "outputId": "83edf0c6-c46c-4d4e-a274-42691bc3a64e"
      },
      "execution_count": 27,
      "outputs": [
        {
          "output_type": "execute_result",
          "data": {
            "text/plain": [
              "[(1,\n",
              "  'Christine',\n",
              "  'Holden',\n",
              "  'staff',\n",
              "  '2035687697',\n",
              "  'Stamford',\n",
              "  '1672 Whitman Court',\n",
              "  'CT',\n",
              "  '06995'),\n",
              " (2,\n",
              "  'Christopher',\n",
              "  'Warren',\n",
              "  'student',\n",
              "  '2175150957',\n",
              "  'Champaign',\n",
              "  '1935 University Hill Road',\n",
              "  'IL',\n",
              "  '61938'),\n",
              " (3,\n",
              "  'Linda',\n",
              "  'Jacobson',\n",
              "  'staff',\n",
              "  '4049446441',\n",
              "  'Atlanta',\n",
              "  '479 Musgrave Street',\n",
              "  'GA',\n",
              "  '30303'),\n",
              " (4,\n",
              "  'Andrew',\n",
              "  'Stepp',\n",
              "  'student',\n",
              "  '7866419252',\n",
              "  'Hialeah',\n",
              "  '2981 Lamberts Branch Road',\n",
              "  'Fl',\n",
              "  '33012'),\n",
              " (5,\n",
              "  'Jane',\n",
              "  'Evans',\n",
              "  'student',\n",
              "  '3259909290',\n",
              "  'Abilene',\n",
              "  '1461 Briarhill Lane',\n",
              "  'TX',\n",
              "  '79602'),\n",
              " (6,\n",
              "  'Jane',\n",
              "  'Evans',\n",
              "  'student',\n",
              "  '3259909290',\n",
              "  'Abilene',\n",
              "  '1461 Briarhill Lane',\n",
              "  'TX',\n",
              "  '79602'),\n",
              " (7,\n",
              "  'Mary',\n",
              "  'Raines',\n",
              "  'student',\n",
              "  '9075772295',\n",
              "  'Ninilchik',\n",
              "  '3975 Jerry Toth Drive',\n",
              "  'AK',\n",
              "  '99639'),\n",
              " (8,\n",
              "  'Ed',\n",
              "  'Lyman',\n",
              "  'student',\n",
              "  '5179695576',\n",
              "  'Lansing',\n",
              "  '3478 Be Sreet',\n",
              "  'MI',\n",
              "  '48933')]"
            ]
          },
          "metadata": {},
          "execution_count": 27
        }
      ]
    },
    {
      "cell_type": "code",
      "source": [
        "conn.commit()"
      ],
      "metadata": {
        "id": "AOLznyNLYWL4"
      },
      "execution_count": 26,
      "outputs": []
    },
    {
      "cell_type": "markdown",
      "metadata": {
        "id": "UM0UtAWNq3u_"
      },
      "source": [
        "## Create a Table for Student Grades\n",
        "\n",
        "Create a new table in the database called \"grades\". In the table, include the following fields: userId, courseId, grade.\n",
        "\n",
        "** This problem is a bit more tricky and will require a dual key. (A nuance you have yet to see.)\n",
        "Here's how to do that:\n",
        "\n",
        "```SQL\n",
        "CREATE TABLE table_name(\n",
        "   column_1 INTEGER NOT NULL,\n",
        "   column_2 INTEGER NOT NULL,\n",
        "   ...\n",
        "   PRIMARY KEY(column_1,column_2,...)\n",
        ");\n",
        "```"
      ]
    },
    {
      "cell_type": "code",
      "execution_count": 15,
      "metadata": {
        "id": "z5zScvE1q3u_"
      },
      "outputs": [],
      "source": [
        "# Create the grades table\n",
        "cur.execute(\"\"\"\n",
        "CREATE TABLE grades (\n",
        "  id INTEGER PRIMARY KEY,\n",
        "  firstName TEXT,\n",
        "  lastName TEXT,\n",
        "  role TEXT,\n",
        "  \"telephone \" TEXT,\n",
        "  city TEXT,\n",
        "  street TEXT,\n",
        "  state TEXT,\n",
        "  \"zipcode \" TEXT\n",
        ")\n",
        "\"\"\")\n",
        "# TelephoneNumber is text due to usualy having hyphen, etc\n",
        "# Zipcode is also technically not numbers, just hold things. Keep dtypes consistent."
      ]
    },
    {
      "cell_type": "markdown",
      "metadata": {
        "id": "FBM-hmhIq3u_"
      },
      "source": [
        "## Remove Duplicate Entries\n",
        "\n",
        "An analyst just realized that there is a duplicate entry in the contactInfo table! Find and remove it."
      ]
    },
    {
      "cell_type": "code",
      "execution_count": 16,
      "metadata": {
        "id": "c6HTI1FAq3u_"
      },
      "outputs": [],
      "source": [
        "# Find the duplicate entry\n"
      ]
    },
    {
      "cell_type": "code",
      "execution_count": 17,
      "metadata": {
        "id": "WpPt_G_Uq3vA"
      },
      "outputs": [],
      "source": [
        "# Delete the duplicate entry\n"
      ]
    },
    {
      "cell_type": "code",
      "execution_count": 18,
      "metadata": {
        "id": "mUuXsHzVq3vA"
      },
      "outputs": [],
      "source": [
        "# Check that the duplicate entry was removed\n"
      ]
    },
    {
      "cell_type": "markdown",
      "metadata": {
        "id": "NLm2WIQXq3vA"
      },
      "source": [
        "## Updating an Address\n",
        "\n",
        "Ed Lyman just moved to `2910 Simpson Avenue York, PA 17403`. Update his address accordingly."
      ]
    },
    {
      "cell_type": "code",
      "execution_count": 19,
      "metadata": {
        "id": "4y1NChRtq3vA"
      },
      "outputs": [],
      "source": [
        "# Update Ed's address\n"
      ]
    },
    {
      "cell_type": "code",
      "execution_count": 20,
      "metadata": {
        "id": "72zrRM3Oq3vA"
      },
      "outputs": [],
      "source": [
        "# Query the database to ensure the change was made\n"
      ]
    },
    {
      "cell_type": "markdown",
      "metadata": {
        "id": "aUVvka4rq3vA"
      },
      "source": [
        "## Commit Your Changes to the Database\n",
        "\n",
        "Once again, persist your changes by committing them to the database."
      ]
    },
    {
      "cell_type": "code",
      "execution_count": 21,
      "metadata": {
        "id": "6wUbWYyLq3vA"
      },
      "outputs": [],
      "source": [
        "# Your code here"
      ]
    },
    {
      "cell_type": "markdown",
      "metadata": {
        "id": "Yr-lA-y_q3vB"
      },
      "source": [
        "## Summary\n",
        "\n",
        "While there's certainly more to do with setting up and managing this database, you got a taste for creating, populating, and maintaining databases! Feel free to continue fleshing out this exercise for more practice."
      ]
    }
  ],
  "metadata": {
    "kernelspec": {
      "display_name": "Python 3",
      "language": "python",
      "name": "python3"
    },
    "language_info": {
      "codemirror_mode": {
        "name": "ipython",
        "version": 3
      },
      "file_extension": ".py",
      "mimetype": "text/x-python",
      "name": "python",
      "nbconvert_exporter": "python",
      "pygments_lexer": "ipython3",
      "version": "3.7.3"
    },
    "toc": {
      "base_numbering": 1,
      "nav_menu": {},
      "number_sections": true,
      "sideBar": true,
      "skip_h1_title": false,
      "title_cell": "Table of Contents",
      "title_sidebar": "Contents",
      "toc_cell": false,
      "toc_position": {},
      "toc_section_display": true,
      "toc_window_display": false
    },
    "colab": {
      "provenance": [],
      "include_colab_link": true
    }
  },
  "nbformat": 4,
  "nbformat_minor": 0
}