{
  "nbformat": 4,
  "nbformat_minor": 0,
  "metadata": {
    "colab": {
      "provenance": [],
      "authorship_tag": "ABX9TyPruwykVFfJHT6Q9NmdocGM",
      "include_colab_link": true
    },
    "kernelspec": {
      "name": "python3",
      "display_name": "Python 3"
    },
    "language_info": {
      "name": "python"
    }
  },
  "cells": [
    {
      "cell_type": "markdown",
      "metadata": {
        "id": "view-in-github",
        "colab_type": "text"
      },
      "source": [
        "<a href=\"https://colab.research.google.com/github/neurosxx/Descriptive-Stats-Phase-2-/blob/main/probability_mass_function.ipynb\" target=\"_parent\"><img src=\"https://colab.research.google.com/assets/colab-badge.svg\" alt=\"Open In Colab\"/></a>"
      ]
    },
    {
      "cell_type": "code",
      "execution_count": 23,
      "metadata": {
        "id": "0mYR0hvSh4Nv"
      },
      "outputs": [],
      "source": [
        "import collections"
      ]
    },
    {
      "cell_type": "code",
      "source": [
        "x = [1,1,1,1,2,2,2,2,3,3,4,5,5]"
      ],
      "metadata": {
        "id": "cs5HaaYgiMVV"
      },
      "execution_count": 24,
      "outputs": []
    },
    {
      "cell_type": "code",
      "source": [
        "counter = collections.Counter(x)"
      ],
      "metadata": {
        "id": "NkyDnaTDiflv"
      },
      "execution_count": 25,
      "outputs": []
    },
    {
      "cell_type": "code",
      "source": [
        "counter\n",
        "# Returns dictionary, with keys being possible outcomes & values set to the frequency of items!"
      ],
      "metadata": {
        "colab": {
          "base_uri": "https://localhost:8080/"
        },
        "id": "3W4gnr2Dimej",
        "outputId": "9a4f0ffb-18a8-45b8-fbab-879856a772bb"
      },
      "execution_count": 26,
      "outputs": [
        {
          "output_type": "execute_result",
          "data": {
            "text/plain": [
              "Counter({1: 4, 2: 4, 3: 2, 4: 1, 5: 2})"
            ]
          },
          "metadata": {},
          "execution_count": 26
        }
      ]
    },
    {
      "cell_type": "code",
      "source": [
        "len(x)"
      ],
      "metadata": {
        "colab": {
          "base_uri": "https://localhost:8080/"
        },
        "id": "NPhsYuXbin98",
        "outputId": "abd29fc1-ba8e-46ee-d17a-f64c67501cc2"
      },
      "execution_count": 27,
      "outputs": [
        {
          "output_type": "execute_result",
          "data": {
            "text/plain": [
              "13"
            ]
          },
          "metadata": {},
          "execution_count": 27
        }
      ]
    },
    {
      "cell_type": "code",
      "source": [
        "pmf = []\n",
        "for key,val in counter.items(): # In python, key and val are implictly defined by the loop itself.\n",
        "  pmf.append(round(val/len(x), 2))\n",
        "\n",
        "print(counter.keys(), pmf)"
      ],
      "metadata": {
        "colab": {
          "base_uri": "https://localhost:8080/"
        },
        "id": "FGSI5MWTiqyc",
        "outputId": "120b4d85-d0f9-4112-afb9-9a0f10483826"
      },
      "execution_count": 28,
      "outputs": [
        {
          "output_type": "stream",
          "name": "stdout",
          "text": [
            "dict_keys([1, 2, 3, 4, 5]) [0.31, 0.31, 0.15, 0.08, 0.15]\n"
          ]
        }
      ]
    },
    {
      "cell_type": "code",
      "source": [
        "pmf"
      ],
      "metadata": {
        "colab": {
          "base_uri": "https://localhost:8080/"
        },
        "id": "ilkEJUaKkGFT",
        "outputId": "10fba4c8-e8f1-4e89-edc4-5b07adc73b51"
      },
      "execution_count": 29,
      "outputs": [
        {
          "output_type": "execute_result",
          "data": {
            "text/plain": [
              "[0.31, 0.31, 0.15, 0.08, 0.15]"
            ]
          },
          "metadata": {},
          "execution_count": 29
        }
      ]
    },
    {
      "cell_type": "code",
      "source": [
        "import numpy as np\n",
        "np.array(pmf).sum()"
      ],
      "metadata": {
        "colab": {
          "base_uri": "https://localhost:8080/"
        },
        "id": "Es2rDhr6kbsz",
        "outputId": "49134a32-c799-4778-be35-41a5d2a2a82e"
      },
      "execution_count": 30,
      "outputs": [
        {
          "output_type": "execute_result",
          "data": {
            "text/plain": [
              "1.0"
            ]
          },
          "metadata": {},
          "execution_count": 30
        }
      ]
    },
    {
      "cell_type": "code",
      "source": [
        "def p(x_i):\n",
        "  frequency = counter[x_i]\n",
        "  total_number = len(x)\n",
        "  return frequency / total_number\n",
        "\n",
        "print(\"p(1) =\", p(1)) # calls the function for the value of 1, prints the probability\n",
        "print(\"p(3) =\", p(3)) # calls the function for the value of 3, printing the probability\n"
      ],
      "metadata": {
        "colab": {
          "base_uri": "https://localhost:8080/"
        },
        "id": "7HP8JW_ym2No",
        "outputId": "c06d3b62-9a8d-457f-f8e4-7f6472fdfa31"
      },
      "execution_count": 31,
      "outputs": [
        {
          "output_type": "stream",
          "name": "stdout",
          "text": [
            "p(1) = 0.3076923076923077\n",
            "p(3) = 0.15384615384615385\n"
          ]
        }
      ]
    },
    {
      "cell_type": "code",
      "source": [],
      "metadata": {
        "id": "ngx4FVGSnGNI"
      },
      "execution_count": 31,
      "outputs": []
    }
  ]
}